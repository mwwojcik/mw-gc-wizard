{
 "cells": [
  {
   "cell_type": "code",
   "execution_count": null,
   "id": "288fdf6c-bfa6-42c7-a094-ee971b1c8964",
   "metadata": {},
   "outputs": [],
   "source": [
    "//add new column with aggregation\n",
    "df.select {type and duration}.groupBy{type}.sum()\n",
    "        .add(\"max [s]\"){df.filter { row -> it.type==row.type }.select(\"duration\").max()}\n",
    "        .add(\"mean [s]\"){df.filter { row -> it.type==row.type }.select(\"duration\").mean()}"
   ]
  },
  {
   "cell_type": "code",
   "execution_count": null,
   "id": "9741ae9f-7331-4a4f-a6e5-9eb2d1f1f5a1",
   "metadata": {},
   "outputs": [],
   "source": [
    "df.filter{event_type==\"PauseEvent\"}.groupBy{cause and type}.count().sortBy { it[\"count\"].desc() }"
   ]
  },
  {
   "cell_type": "code",
   "execution_count": null,
   "id": "621df9e3-4850-4c16-87df-26a3cdf1d93e",
   "metadata": {},
   "outputs": [],
   "source": [
    "import java.time.ZonedDateTime\n",
    "import java.time.format.DateTimeFormatter\n",
    "\n",
    "val formatter = DateTimeFormatter.ISO_OFFSET_DATE_TIME\n",
    "val start= ZonedDateTime.parse(\"2023-07-18T19:39:34.550Z\",formatter).toInstant()"
   ]
  },
  {
   "cell_type": "code",
   "execution_count": null,
   "id": "e6cc5bb0-aa27-4449-895c-09a6f0aec19a",
   "metadata": {},
   "outputs": [],
   "source": [
    "// get 3 oldest events\n",
    "//df.head(3)\n",
    "\n",
    "// get 3 newest events\n",
    "//df.sortByDesc{ startedAt }.head(3)"
   ]
  },
  {
   "cell_type": "code",
   "execution_count": null,
   "id": "b0e0a513-7f15-4a7f-84b6-b8618a5f55c0",
   "metadata": {},
   "outputs": [],
   "source": [
    "//get 3 longest young events\n",
    "df.filter { type == \"Young\" }.sortByDesc{duration}.head(3)"
   ]
  },
  {
   "cell_type": "code",
   "execution_count": null,
   "id": "56c54cd6-ea54-44ab-aab3-860cb5802165",
   "metadata": {},
   "outputs": [],
   "source": [
    "df.select {type and duration}.groupBy{type}.sum()"
   ]
  },
  {
   "cell_type": "code",
   "execution_count": null,
   "id": "b4548e8c-cf9e-463d-9835-068324fa1e38",
   "metadata": {},
   "outputs": [],
   "source": [
    "df.select {event_type and duration}.groupBy{event_type}.sum()"
   ]
  }
 ],
 "metadata": {
  "kernelspec": {
   "display_name": "Kotlin",
   "language": "kotlin",
   "name": "kotlin"
  },
  "language_info": {
   "codemirror_mode": "text/x-kotlin",
   "file_extension": ".kt",
   "mimetype": "text/x-kotlin",
   "name": "kotlin",
   "nbconvert_exporter": "",
   "pygments_lexer": "kotlin",
   "version": "1.8.20"
  }
 },
 "nbformat": 4,
 "nbformat_minor": 5
}
